{
 "cells": [
  {
   "cell_type": "code",
   "execution_count": 1,
   "metadata": {},
   "outputs": [],
   "source": [
    "from py2neo import Graph,Node\n",
    "import os \n",
    "import json\n",
    "from tqdm import tqdm"
   ]
  },
  {
   "cell_type": "code",
   "execution_count": 2,
   "metadata": {},
   "outputs": [],
   "source": [
    "data_dir = './data'\n",
    "entities_path = os.path.join(data_dir,'entities3.json')\n",
    "relation_path = os.path.join(data_dir,'relations3.json')"
   ]
  },
  {
   "cell_type": "code",
   "execution_count": 3,
   "metadata": {},
   "outputs": [],
   "source": [
    "with open(entities_path,'r',encoding='utf-8') as f:\n",
    "    entities = json.load(f)\n",
    "with open(relation_path,'r',encoding='utf-8') as f:\n",
    "    relations = json.load(f)"
   ]
  },
  {
   "cell_type": "code",
   "execution_count": 4,
   "metadata": {},
   "outputs": [
    {
     "name": "stdout",
     "output_type": "stream",
     "text": [
      "12730\n",
      "12\n"
     ]
    }
   ],
   "source": [
    "print(len(entities))\n",
    "print(len(relations))"
   ]
  },
  {
   "cell_type": "code",
   "execution_count": 5,
   "metadata": {},
   "outputs": [],
   "source": [
    "def transform_rel_name(relation_name):\n",
    "    place_1 = relation_name.find('同义词')\n",
    "    if place_1 != -1:\n",
    "        place_2 = relation_name.find('/')\n",
    "        relation_name = relation_name[place_1+4:place_2]\n",
    "    return relation_name    "
   ]
  },
  {
   "cell_type": "code",
   "execution_count": 6,
   "metadata": {},
   "outputs": [],
   "source": [
    "name_map = {\n",
    "    '临床表现': '症状',\n",
    "    '治疗后症状': '症状',\n",
    "    '侵及周围组织转移的症状': '症状',\n",
    "    '药物治疗': '好评药品',\n",
    "    '实验室检查': '诊断检查',\n",
    "    '影像学检查': '诊断检查',\n",
    "    '辅助检查': '诊断检查',\n",
    "    '组织学检查': '诊断检查',\n",
    "    '内窥镜检查': '诊断检查',\n",
    "    '筛查': '诊断检查',\n",
    "    '并发症': '并发症',\n",
    "    '就诊科室': '所属科室'\n",
    "    }"
   ]
  },
  {
   "cell_type": "code",
   "execution_count": 31,
   "metadata": {},
   "outputs": [],
   "source": [
    "# rel_name = transform_rel_name('同义词(药物/药物)')\n",
    "# rel_name = transform_rel_name('预防')\n",
    "# print(rel_name)"
   ]
  },
  {
   "cell_type": "code",
   "execution_count": 7,
   "metadata": {},
   "outputs": [],
   "source": [
    "graph = Graph(\n",
    "            host=\"127.0.0.1\",  # neo4j 搭载服务器的ip地址，ifconfig可获取到\n",
    "            port=7687,  # neo4j 服务器监听的端口号\n",
    "            user=\"neo4j\",  # 数据库user name，如果没有更改过，应该是neo4j\n",
    "            password=\"zhuo123*\",name='medicalgraph') #name 要改成自己的图谱的名字"
   ]
  },
  {
   "cell_type": "code",
   "execution_count": 8,
   "metadata": {},
   "outputs": [],
   "source": [
    "def search_eneity(label,name):\n",
    "    query_1 = \"match(n:{}) where n.名称='{}' return n.名称\".format(label,name) #先match，如果存在就不进行create\n",
    "    try:\n",
    "        result = graph.run(query_1).data()\n",
    "    except:\n",
    "        return 'error'\n",
    "    if len(result) > 0:\n",
    "        return 'exist'\n",
    "    else:\n",
    "        query_2 = \"match(n) where n.名称='{}' return n.名称\".format(name) #如果名字存在就还是使用原有图谱的东西\n",
    "        try:\n",
    "            result_2 = graph.run(query_2).data()\n",
    "        except:\n",
    "            return 'error'\n",
    "        if len(result_2) > 0:\n",
    "            return 'exist'\n",
    "        else:\n",
    "            return 'noexist'"
   ]
  },
  {
   "cell_type": "code",
   "execution_count": 9,
   "metadata": {},
   "outputs": [],
   "source": [
    "# search_eneity('药物','中等剂量 ICS')\n",
    "# search_eneity('疾病','藏毛囊肿')"
   ]
  },
  {
   "cell_type": "code",
   "execution_count": 10,
   "metadata": {},
   "outputs": [],
   "source": [
    "def search_relation(p,q,rel_name):\n",
    "    query = \"match(n)-[r]-(m) where n.名称='{}' and r.名称='{}' and m.名称='{}' return n.名称,r.名称,m.名称\".format(\n",
    "        p,rel_name,q\n",
    "    )\n",
    "    try:\n",
    "        result = graph.run(query).data()\n",
    "    except:\n",
    "        return 'error'\n",
    "    # print(result)\n",
    "    if len(result) > 0:\n",
    "        return 'exist'\n",
    "    else:\n",
    "        return 'notexist'"
   ]
  },
  {
   "cell_type": "code",
   "execution_count": 11,
   "metadata": {},
   "outputs": [],
   "source": [
    "# search_relation('藏毛囊肿','白菜肉末粥','推荐食谱')"
   ]
  },
  {
   "cell_type": "code",
   "execution_count": 12,
   "metadata": {},
   "outputs": [],
   "source": [
    "def create_node(label,name): #创建节点\n",
    "    n = Node(label) \n",
    "    n['名称'] = name\n",
    "    graph.create(n)"
   ]
  },
  {
   "cell_type": "code",
   "execution_count": 13,
   "metadata": {},
   "outputs": [],
   "source": [
    "def create_rel(start_entity_type,end_entity_type, p, q,rel_name):\n",
    "    query = \"match(p:%s),(q:%s) where p.名称='%s'and q.名称='%s' create (p)-[rel:%s {名称:'%s'}]->(q)\" % (\n",
    "                start_entity_type,end_entity_type, p, q,rel_name,rel_name)\n",
    "    try:\n",
    "        graph.run(query)\n",
    "    except Exception as e:\n",
    "        print(e)"
   ]
  },
  {
   "cell_type": "code",
   "execution_count": 14,
   "metadata": {},
   "outputs": [
    {
     "name": "stderr",
     "output_type": "stream",
     "text": [
      "entity: 100%|█████████████████████████████| 12730/12730 [03:16<00:00, 64.64it/s]\n"
     ]
    }
   ],
   "source": [
    "for entity in tqdm(entities,total=len(entities),desc='entity',ncols=80):\n",
    "    name = entity['name']\n",
    "    label = entity['label']\n",
    "    flag = search_eneity(label,name)\n",
    "    # print(result)\n",
    "    # # break\n",
    "    if flag == 'exist' or flag == 'error': #如果节点已经存在就不创建\n",
    "        continue\n",
    "    else:\n",
    "        create_node(label,name)"
   ]
  },
  {
   "cell_type": "code",
   "execution_count": 15,
   "metadata": {},
   "outputs": [
    {
     "name": "stderr",
     "output_type": "stream",
     "text": [
      "relation: 100%|█████████████████████████████████| 12/12 [08:54<00:00, 44.51s/it]\n"
     ]
    }
   ],
   "source": [
    "for relation in tqdm(relations,total=len(relations),desc='relation',ncols=80):\n",
    "    start_entity_type=relation['start_entity_type']\n",
    "    end_entity_type=relation['end_entity_type']\n",
    "    rel_type=relation['rel_type']\n",
    "    rel_name=relation['rel_name']\n",
    "    rels=relation['rels']\n",
    "    # print(start_entity_type,end_entity_type,rel_type)\n",
    "    for rel in rels:\n",
    "        p=rel['start_entity_name']\n",
    "        q=rel['end_entity_name']\n",
    "        p_flag = search_eneity(start_entity_type,p) #检测是否存在实体\n",
    "        q_flag = search_eneity(end_entity_type,q) #检测是否有实体\n",
    "        # print(p,q,p_flag,q_flag)\n",
    "        if p_flag == 'error' or q_flag == 'error':\n",
    "            continue\n",
    "        if p_flag == 'exist' and q_flag == 'exist':\n",
    "            rel_flag = search_relation(p,q,rel_name) #两者检测是否有关系\n",
    "            if rel_flag == 'exist' or rel_flag=='error':\n",
    "                continue\n",
    "            else:\n",
    "                create_rel(start_entity_type,end_entity_type,p,q,rel_name) #创建关系\n",
    "                continue\n",
    "        elif p_flag == 'noexist': #如果存在entity不存在的状况那就先创建\n",
    "            create_node(start_entity_type,p)\n",
    "        elif q_flag == 'noexist':\n",
    "            create_node(end_entity_type,q) \n",
    "        create_rel(start_entity_type,end_entity_type,p,q,rel_name)    "
   ]
  },
  {
   "cell_type": "markdown",
   "metadata": {},
   "source": [
    "多了10067个实体，15253条关系"
   ]
  },
  {
   "cell_type": "markdown",
   "metadata": {},
   "source": [
    "54732 个 实体 533303 个关系"
   ]
  },
  {
   "cell_type": "markdown",
   "metadata": {},
   "source": [
    "62196 个实体 543669条关系"
   ]
  },
  {
   "cell_type": "code",
   "execution_count": null,
   "metadata": {},
   "outputs": [],
   "source": []
  }
 ],
 "metadata": {
  "interpreter": {
   "hash": "0b44c525ca95e5dbf893da2282eb3ec3f420cb9fa59d94f9af90ca833dc1a37c"
  },
  "kernelspec": {
   "display_name": "Python 3.8.12 ('pytorch')",
   "language": "python",
   "name": "python3"
  },
  "language_info": {
   "codemirror_mode": {
    "name": "ipython",
    "version": 3
   },
   "file_extension": ".py",
   "mimetype": "text/x-python",
   "name": "python",
   "nbconvert_exporter": "python",
   "pygments_lexer": "ipython3",
   "version": "3.8.12"
  },
  "orig_nbformat": 4
 },
 "nbformat": 4,
 "nbformat_minor": 2
}
