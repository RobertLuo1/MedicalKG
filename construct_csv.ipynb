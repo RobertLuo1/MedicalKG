{
 "cells": [
  {
   "cell_type": "code",
   "execution_count": 1,
   "metadata": {},
   "outputs": [],
   "source": [
    "import pandas as pd\n",
    "import json"
   ]
  },
  {
   "cell_type": "code",
   "execution_count": 6,
   "metadata": {},
   "outputs": [],
   "source": [
    "with open('./data/relations.json', encoding='utf-8') as f:\n",
    "    relationships = json.load(f)"
   ]
  },
  {
   "cell_type": "code",
   "execution_count": 11,
   "metadata": {},
   "outputs": [
    {
     "data": {
      "text/plain": [
       "12"
      ]
     },
     "execution_count": 11,
     "metadata": {},
     "output_type": "execute_result"
    }
   ],
   "source": [
    "len(relationships)"
   ]
  },
  {
   "cell_type": "code",
   "execution_count": 22,
   "metadata": {},
   "outputs": [],
   "source": [
    "cols = []"
   ]
  },
  {
   "cell_type": "code",
   "execution_count": 30,
   "metadata": {},
   "outputs": [
    {
     "name": "stdout",
     "output_type": "stream",
     "text": [
      "Disease recommand_eat Food 推荐食谱\n",
      "Disease no_eat Food 忌吃\n",
      "Disease do_eat Food 宜吃\n",
      "Department belongs_to Department 属于\n",
      "Disease belongs_to Department 所属科室\n",
      "Disease common_drug Drug 常用药品\n",
      "Producer drugs_of Drug 生产药品\n",
      "Disease recommand_drug Drug 好评药品\n",
      "Disease need_check Check 诊断检查\n",
      "Disease has_symptom Symptom 症状\n",
      "Disease acompany_with Disease 并发症\n",
      "Disease cure_way Cure 治疗方法\n"
     ]
    }
   ],
   "source": [
    "for i in range(len(relationships)):\n",
    "    print(relationships[i][\"start_entity_type\"], relationships[i][\"rel_type\"], relationships[i][\"end_entity_type\"], relationships[i][\"rel_name\"])\n",
    "    cols.append([relationships[i][\"start_entity_type\"], relationships[i][\"rel_type\"], relationships[i][\"end_entity_type\"]])\n"
   ]
  },
  {
   "cell_type": "code",
   "execution_count": 31,
   "metadata": {},
   "outputs": [
    {
     "data": {
      "text/plain": [
       "[['Disease', 'recommand_eat', 'Food'],\n",
       " ['Disease', 'no_eat', 'Food'],\n",
       " ['Disease', 'do_eat', 'Food'],\n",
       " ['Department', 'belongs_to', 'Department'],\n",
       " ['Disease', 'belongs_to', 'Department'],\n",
       " ['Disease', 'common_drug', 'Drug'],\n",
       " ['Producer', 'drugs_of', 'Drug'],\n",
       " ['Disease', 'recommand_drug', 'Drug'],\n",
       " ['Disease', 'need_check', 'Check'],\n",
       " ['Disease', 'has_symptom', 'Symptom'],\n",
       " ['Disease', 'acompany_with', 'Disease'],\n",
       " ['Disease', 'cure_way', 'Cure'],\n",
       " ['Disease', 'recommand_eat', 'Food'],\n",
       " ['Disease', 'no_eat', 'Food'],\n",
       " ['Disease', 'do_eat', 'Food'],\n",
       " ['Department', 'belongs_to', 'Department'],\n",
       " ['Disease', 'belongs_to', 'Department'],\n",
       " ['Disease', 'common_drug', 'Drug'],\n",
       " ['Producer', 'drugs_of', 'Drug'],\n",
       " ['Disease', 'recommand_drug', 'Drug'],\n",
       " ['Disease', 'need_check', 'Check'],\n",
       " ['Disease', 'has_symptom', 'Symptom'],\n",
       " ['Disease', 'acompany_with', 'Disease'],\n",
       " ['Disease', 'cure_way', 'Cure']]"
      ]
     },
     "execution_count": 31,
     "metadata": {},
     "output_type": "execute_result"
    }
   ],
   "source": [
    "cols"
   ]
  },
  {
   "cell_type": "code",
   "execution_count": 33,
   "metadata": {},
   "outputs": [],
   "source": [
    "recommand_eat = []\n",
    "no_eat = []\n",
    "do_eat = []\n",
    "belong_to = []\n",
    "belong_to_department = []\n",
    "common_drog = []\n",
    "drugs_of = []\n",
    "recommand_drug = []\n",
    "need_check = []\n",
    "has_symptom = []\n",
    "accompany_with = []\n",
    "cure_way = []"
   ]
  },
  {
   "cell_type": "code",
   "execution_count": 34,
   "metadata": {},
   "outputs": [],
   "source": [
    "for i in range(len(relationships)):\n",
    "    rel = relationships[i]['rel_name']\n",
    "    for j in relationships[i]['rels']:\n",
    "        if i == 0:\n",
    "            recommand_eat.append([j['start_entity_name'], rel, j['end_entity_name']])\n",
    "        elif i == 1:\n",
    "            no_eat.append([j['start_entity_name'], rel, j['end_entity_name']])\n",
    "        elif i == 2:\n",
    "            do_eat.append([j['start_entity_name'], rel, j['end_entity_name']])\n",
    "        elif i == 3:\n",
    "            belong_to.append([j['start_entity_name'], rel, j['end_entity_name']])\n",
    "        elif i == 4:\n",
    "            belong_to_department.append([j['start_entity_name'], rel, j['end_entity_name']])\n",
    "        elif i == 5:\n",
    "            common_drog.append([j['start_entity_name'], rel, j['end_entity_name']])\n",
    "        elif i == 6:\n",
    "            drugs_of.append([j['start_entity_name'], rel, j['end_entity_name']])\n",
    "        elif i == 7:\n",
    "            recommand_drug.append([j['start_entity_name'], rel, j['end_entity_name']])\n",
    "        elif i == 8:\n",
    "            need_check.append([j['start_entity_name'], rel, j['end_entity_name']])\n",
    "        elif i == 9:\n",
    "            has_symptom.append([j['start_entity_name'], rel, j['end_entity_name']])\n",
    "        elif i == 10:\n",
    "            accompany_with.append([j['start_entity_name'], rel, j['end_entity_name']])\n",
    "        elif i == 11:\n",
    "            cure_way.append([j['start_entity_name'], rel, j['end_entity_name']])"
   ]
  },
  {
   "cell_type": "code",
   "execution_count": 36,
   "metadata": {},
   "outputs": [],
   "source": [
    "pd.DataFrame(recommand_eat, columns=cols[0]).to_excel('./data/recommand_eat.xlsx', index=False)\n",
    "pd.DataFrame(no_eat, columns=cols[1]).to_excel('./data/no_eat.xlsx', index=False)\n",
    "pd.DataFrame(do_eat, columns=cols[2]).to_excel('./data/do_eat.xlsx', index=False)\n",
    "pd.DataFrame(belong_to, columns=cols[3]).to_excel('./data/belong_to.xlsx', index=False)\n",
    "pd.DataFrame(belong_to_department, columns=cols[4]).to_excel('./data/belong_to_department.xlsx', index=False)\n",
    "pd.DataFrame(common_drog, columns=cols[5]).to_excel('./data/common_drog.xlsx', index=False)\n",
    "pd.DataFrame(drugs_of, columns=cols[6]).to_excel('./data/drugs_of.xlsx', index=False)\n",
    "pd.DataFrame(recommand_drug, columns=cols[7]).to_excel('./data/recommand_drug.xlsx', index=False)\n",
    "pd.DataFrame(need_check, columns=cols[8]).to_excel('./data/need_check.xlsx', index=False)\n",
    "pd.DataFrame(has_symptom, columns=cols[9]).to_excel('./data/has_symptom.xlsx', index=False)\n",
    "pd.DataFrame(accompany_with, columns=cols[10]).to_excel('./data/accompany_with.xlsx', index=False)\n",
    "pd.DataFrame(cure_way, columns=cols[11]).to_excel('./data/cure_way.xlsx', index=False)"
   ]
  }
 ],
 "metadata": {
  "interpreter": {
   "hash": "dd84719abe9da318fa3be6647a1b2c905c8e635a680c49e0968808788a011aab"
  },
  "kernelspec": {
   "display_name": "Python 3.7.11 ('datamining')",
   "language": "python",
   "name": "python3"
  },
  "language_info": {
   "codemirror_mode": {
    "name": "ipython",
    "version": 3
   },
   "file_extension": ".py",
   "mimetype": "text/x-python",
   "name": "python",
   "nbconvert_exporter": "python",
   "pygments_lexer": "ipython3",
   "version": "3.7.11"
  },
  "orig_nbformat": 4
 },
 "nbformat": 4,
 "nbformat_minor": 2
}
