{
 "cells": [
  {
   "cell_type": "markdown",
   "metadata": {},
   "source": [
    "### 进行schema对齐"
   ]
  },
  {
   "cell_type": "code",
   "execution_count": 1,
   "metadata": {},
   "outputs": [],
   "source": [
    "import json\n",
    "import os"
   ]
  },
  {
   "cell_type": "code",
   "execution_count": 34,
   "metadata": {},
   "outputs": [],
   "source": [
    "data_dir = './data'\n",
    "relation_file = 'relations_ex.json'\n",
    "entitiy_file = 'entities_ex.json'\n",
    "entities = []"
   ]
  },
  {
   "cell_type": "code",
   "execution_count": 35,
   "metadata": {},
   "outputs": [],
   "source": [
    "with open(os.path.join(data_dir,relation_file)) as f:\n",
    "    relations = json.load(f)\n",
    "with open(os.path.join(data_dir,entitiy_file)) as f:\n",
    "    entities_origin = json.load(f)"
   ]
  },
  {
   "cell_type": "code",
   "execution_count": 36,
   "metadata": {},
   "outputs": [
    {
     "name": "stdout",
     "output_type": "stream",
     "text": [
      "6376\n",
      "53\n"
     ]
    }
   ],
   "source": [
    "print(len(entities_origin))\n",
    "print(len(relations))"
   ]
  },
  {
   "cell_type": "code",
   "execution_count": 37,
   "metadata": {},
   "outputs": [],
   "source": [
    "def addentities(label,name):\n",
    "    temp = {}\n",
    "    temp['name'] = name\n",
    "    temp['label'] = label\n",
    "    if temp in entities:\n",
    "        return\n",
    "    else:\n",
    "        entities.append(temp)"
   ]
  },
  {
   "cell_type": "code",
   "execution_count": 38,
   "metadata": {},
   "outputs": [],
   "source": [
    "name_map = {\n",
    "    '临床表现': '症状',\n",
    "    '治疗后症状': '症状',\n",
    "    '侵及周围组织转移的症状': '症状',\n",
    "    '药物治疗': '好评药品',\n",
    "    '实验室检查': '诊断检查',\n",
    "    '影像学检查': '诊断检查',\n",
    "    '辅助检查': '诊断检查',\n",
    "    '组织学检查': '诊断检查',\n",
    "    '内窥镜检查': '诊断检查',\n",
    "    '筛查': '诊断检查',\n",
    "    '并发症': '并发症',\n",
    "    '就诊科室': '所属科室'\n",
    "    }"
   ]
  },
  {
   "cell_type": "code",
   "execution_count": 39,
   "metadata": {},
   "outputs": [
    {
     "name": "stdout",
     "output_type": "stream",
     "text": [
      "12\n"
     ]
    }
   ],
   "source": [
    "print(len(name_map.keys()))"
   ]
  },
  {
   "cell_type": "code",
   "execution_count": 40,
   "metadata": {},
   "outputs": [],
   "source": [
    "relations_new = []"
   ]
  },
  {
   "cell_type": "code",
   "execution_count": 41,
   "metadata": {},
   "outputs": [],
   "source": [
    "for relation in relations:\n",
    "    start_entity_type=relation['start_entity_type']\n",
    "    end_entity_type=relation['end_entity_type']\n",
    "    relation_name = relation['rel_name']\n",
    "    rels=relation['rels']\n",
    "    if relation_name in name_map.keys():\n",
    "        relation['rel_name'] = name_map[relation_name]   \n",
    "        for rel in rels:\n",
    "            p=rel['start_entity_name']\n",
    "            q=rel['end_entity_name']            \n",
    "            addentities(start_entity_type,p)\n",
    "            addentities(end_entity_type,q)\n",
    "        relations_new.append(relation)"
   ]
  },
  {
   "cell_type": "code",
   "execution_count": 42,
   "metadata": {},
   "outputs": [
    {
     "name": "stdout",
     "output_type": "stream",
     "text": [
      "12730\n",
      "12\n"
     ]
    }
   ],
   "source": [
    "print(len(entities))\n",
    "print(len(relations_new))"
   ]
  },
  {
   "cell_type": "code",
   "execution_count": 43,
   "metadata": {},
   "outputs": [
    {
     "name": "stdout",
     "output_type": "stream",
     "text": [
      "所属科室\n",
      "诊断检查\n",
      "诊断检查\n",
      "诊断检查\n",
      "诊断检查\n",
      "诊断检查\n",
      "诊断检查\n",
      "并发症\n",
      "症状\n",
      "症状\n",
      "症状\n",
      "好评药品\n"
     ]
    }
   ],
   "source": [
    "for relation in relations_new:\n",
    "    print(relation['rel_name'])"
   ]
  },
  {
   "cell_type": "code",
   "execution_count": 44,
   "metadata": {},
   "outputs": [
    {
     "name": "stdout",
     "output_type": "stream",
     "text": [
      "finish\n"
     ]
    }
   ],
   "source": [
    "with open(os.path.join(data_dir,'entities3.json'),'w') as f:\n",
    "    json.dump(entities,f,ensure_ascii=False,indent=2)\n",
    "print('finish')"
   ]
  },
  {
   "cell_type": "code",
   "execution_count": 15,
   "metadata": {},
   "outputs": [],
   "source": [
    "with open(os.path.join(data_dir,'relations3.json'),'w') as f:\n",
    "    json.dump(relations_new,f,indent=2,ensure_ascii=False)"
   ]
  }
 ],
 "metadata": {
  "interpreter": {
   "hash": "0b44c525ca95e5dbf893da2282eb3ec3f420cb9fa59d94f9af90ca833dc1a37c"
  },
  "kernelspec": {
   "display_name": "Python 3.8.12 ('pytorch')",
   "language": "python",
   "name": "python3"
  },
  "language_info": {
   "codemirror_mode": {
    "name": "ipython",
    "version": 3
   },
   "file_extension": ".py",
   "mimetype": "text/x-python",
   "name": "python",
   "nbconvert_exporter": "python",
   "pygments_lexer": "ipython3",
   "version": "3.8.12"
  },
  "orig_nbformat": 4
 },
 "nbformat": 4,
 "nbformat_minor": 2
}
